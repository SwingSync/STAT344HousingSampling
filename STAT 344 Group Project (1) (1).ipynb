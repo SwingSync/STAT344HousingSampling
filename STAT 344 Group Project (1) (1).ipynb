{
 "cells": [
  {
   "cell_type": "code",
   "execution_count": 1,
   "id": "87aa299f-5b6f-48e9-8cc8-0c8f67ec189a",
   "metadata": {},
   "outputs": [
    {
     "name": "stderr",
     "output_type": "stream",
     "text": [
      "── \u001b[1mAttaching core tidyverse packages\u001b[22m ──────────────────────────────────────────────────────────────── tidyverse 2.0.0 ──\n",
      "\u001b[32m✔\u001b[39m \u001b[34mdplyr    \u001b[39m 1.1.4     \u001b[32m✔\u001b[39m \u001b[34mreadr    \u001b[39m 2.1.5\n",
      "\u001b[32m✔\u001b[39m \u001b[34mforcats  \u001b[39m 1.0.0     \u001b[32m✔\u001b[39m \u001b[34mstringr  \u001b[39m 1.5.1\n",
      "\u001b[32m✔\u001b[39m \u001b[34mggplot2  \u001b[39m 3.5.1     \u001b[32m✔\u001b[39m \u001b[34mtibble   \u001b[39m 3.2.1\n",
      "\u001b[32m✔\u001b[39m \u001b[34mlubridate\u001b[39m 1.9.3     \u001b[32m✔\u001b[39m \u001b[34mtidyr    \u001b[39m 1.3.1\n",
      "\u001b[32m✔\u001b[39m \u001b[34mpurrr    \u001b[39m 1.0.2     \n",
      "── \u001b[1mConflicts\u001b[22m ────────────────────────────────────────────────────────────────────────────────── tidyverse_conflicts() ──\n",
      "\u001b[31m✖\u001b[39m \u001b[34mdplyr\u001b[39m::\u001b[32mfilter()\u001b[39m masks \u001b[34mstats\u001b[39m::filter()\n",
      "\u001b[31m✖\u001b[39m \u001b[34mdplyr\u001b[39m::\u001b[32mlag()\u001b[39m    masks \u001b[34mstats\u001b[39m::lag()\n",
      "\u001b[36mℹ\u001b[39m Use the conflicted package (\u001b[3m\u001b[34m<http://conflicted.r-lib.org/>\u001b[39m\u001b[23m) to force all conflicts to become errors\n",
      "Warning message:\n",
      "\"package 'infer' was built under R version 4.4.2\"\n",
      "\n",
      "Attaching package: 'cowplot'\n",
      "\n",
      "\n",
      "The following object is masked from 'package:lubridate':\n",
      "\n",
      "    stamp\n",
      "\n",
      "\n"
     ]
    }
   ],
   "source": [
    "#loading packages\n",
    "library(tidyverse)\n",
    "library(repr)\n",
    "library(infer)\n",
    "library(cowplot)\n",
    "options(repr.matrix.max.rows = 10)"
   ]
  },
  {
   "cell_type": "code",
   "execution_count": 2,
   "id": "7820ba41-ba81-4e87-8c8a-4535e12c305f",
   "metadata": {},
   "outputs": [
    {
     "name": "stderr",
     "output_type": "stream",
     "text": [
      "\u001b[1mRows: \u001b[22m\u001b[34m35768\u001b[39m \u001b[1mColumns: \u001b[22m\u001b[34m10\u001b[39m\n",
      "\u001b[36m──\u001b[39m \u001b[1mColumn specification\u001b[22m \u001b[36m────────────────────────────────────────────────────────────────────────────────────────────────\u001b[39m\n",
      "\u001b[1mDelimiter:\u001b[22m \",\"\n",
      "\u001b[31mchr\u001b[39m (3): City, Address, Province\n",
      "\u001b[32mdbl\u001b[39m (7): Price, Number_Beds, Number_Baths, Population, Latitude, Longitude, ...\n",
      "\n",
      "\u001b[36mℹ\u001b[39m Use `spec()` to retrieve the full column specification for this data.\n",
      "\u001b[36mℹ\u001b[39m Specify the column types or set `show_col_types = FALSE` to quiet this message.\n"
     ]
    }
   ],
   "source": [
    "#reading data and creating a new binary variable for whether a listing is greater than $700,000\n",
    "#this is the population data\n",
    "housing_raw <- read_delim(file = \"HouseListings-Top45Cities-10292023-kaggle.csv\", delim = \",\")\n",
    "threshold <- 700000\n",
    "housing <- housing_raw |>\n",
    "    mutate(above.threshold = if_else(Price > threshold, 1, 0))"
   ]
  },
  {
   "cell_type": "code",
   "execution_count": 3,
   "id": "f88ebe85-1cbd-4872-9d2f-42d5c59da106",
   "metadata": {},
   "outputs": [
    {
     "data": {
      "text/html": [
       "2401"
      ],
      "text/latex": [
       "2401"
      ],
      "text/markdown": [
       "2401"
      ],
      "text/plain": [
       "[1] 2401"
      ]
     },
     "metadata": {},
     "output_type": "display_data"
    }
   ],
   "source": [
    "#calculating recommended sample size to guarantee that the confidence interval\n",
    "#for the proportion of listings above $700,000 has width equal to or less than 0.04\n",
    "half.width <- 0.02\n",
    "n <- ceiling(1.96^2 * (0.5) * (1-0.5) / half.width^2)\n",
    "n"
   ]
  },
  {
   "cell_type": "code",
   "execution_count": 4,
   "id": "33cf7fe0-9418-4f17-89eb-b359d8aca373",
   "metadata": {},
   "outputs": [
    {
     "data": {
      "text/html": [
       "35768"
      ],
      "text/latex": [
       "35768"
      ],
      "text/markdown": [
       "35768"
      ],
      "text/plain": [
       "[1] 35768"
      ]
     },
     "metadata": {},
     "output_type": "display_data"
    }
   ],
   "source": [
    "#population size\n",
    "N <- nrow(housing)\n",
    "N"
   ]
  },
  {
   "cell_type": "code",
   "execution_count": 5,
   "id": "b4d77bed-365a-4641-9665-f0f2fb90c383",
   "metadata": {},
   "outputs": [
    {
     "data": {
      "text/html": [
       "<table class=\"dataframe\">\n",
       "<caption>A tibble: 2401 × 11</caption>\n",
       "<thead>\n",
       "\t<tr><th scope=col>City</th><th scope=col>Price</th><th scope=col>Address</th><th scope=col>Number_Beds</th><th scope=col>Number_Baths</th><th scope=col>Province</th><th scope=col>Population</th><th scope=col>Latitude</th><th scope=col>Longitude</th><th scope=col>Median_Family_Income</th><th scope=col>above.threshold</th></tr>\n",
       "\t<tr><th scope=col>&lt;chr&gt;</th><th scope=col>&lt;dbl&gt;</th><th scope=col>&lt;chr&gt;</th><th scope=col>&lt;dbl&gt;</th><th scope=col>&lt;dbl&gt;</th><th scope=col>&lt;chr&gt;</th><th scope=col>&lt;dbl&gt;</th><th scope=col>&lt;dbl&gt;</th><th scope=col>&lt;dbl&gt;</th><th scope=col>&lt;dbl&gt;</th><th scope=col>&lt;dbl&gt;</th></tr>\n",
       "</thead>\n",
       "<tbody>\n",
       "\t<tr><td>Calgary        </td><td>1050000</td><td>132 Carrington Close NW </td><td>6</td><td>4</td><td>Alberta         </td><td>1306784</td><td>51.0500</td><td>-114.0667</td><td>100000</td><td>1</td></tr>\n",
       "\t<tr><td>Saint John     </td><td> 259900</td><td>9 Eastland Court        </td><td>4</td><td>3</td><td>New Brunswick   </td><td>  69895</td><td>45.2806</td><td> -66.0761</td><td> 74000</td><td>0</td></tr>\n",
       "\t<tr><td>New Westminster</td><td> 769900</td><td>1601-301 CAPILANO ROAD  </td><td>2</td><td>2</td><td>British Columbia</td><td>  78916</td><td>49.2069</td><td>-122.9111</td><td> 82000</td><td>1</td></tr>\n",
       "\t<tr><td>Calgary        </td><td> 429000</td><td>228 Rocky Ridge Court NW</td><td>3</td><td>2</td><td>Alberta         </td><td>1306784</td><td>51.0500</td><td>-114.0667</td><td>100000</td><td>0</td></tr>\n",
       "\t<tr><td>London         </td><td> 529000</td><td>384 WHARNCLIFFE Road S  </td><td>5</td><td>3</td><td>Ontario         </td><td> 423369</td><td>42.9836</td><td> -81.2497</td><td> 79500</td><td>0</td></tr>\n",
       "\t<tr><td>⋮</td><td>⋮</td><td>⋮</td><td>⋮</td><td>⋮</td><td>⋮</td><td>⋮</td><td>⋮</td><td>⋮</td><td>⋮</td><td>⋮</td></tr>\n",
       "\t<tr><td>Hamilton </td><td> 179000</td><td>60 Robinson Street  </td><td>1</td><td>1</td><td>Ontario         </td><td> 729560</td><td>43.2567</td><td> -79.8692</td><td>91000</td><td>0</td></tr>\n",
       "\t<tr><td>Vancouver</td><td>1899000</td><td>4416 PRICE CRESCENT </td><td>4</td><td>3</td><td>British Columbia</td><td>2426160</td><td>49.2500</td><td>-123.1000</td><td>90000</td><td>1</td></tr>\n",
       "\t<tr><td>Victoria </td><td> 435000</td><td>303-611 Brookside Rd</td><td>1</td><td>1</td><td>British Columbia</td><td> 363222</td><td>48.4283</td><td>-123.3647</td><td>85000</td><td>0</td></tr>\n",
       "\t<tr><td>Burnaby  </td><td> 699000</td><td>203 232 SIXTH STREET</td><td>2</td><td>2</td><td>British Columbia</td><td> 249125</td><td>49.2667</td><td>-122.9667</td><td>83000</td><td>0</td></tr>\n",
       "\t<tr><td>Barrie   </td><td> 999900</td><td>40 JOSEPH Crescent  </td><td>5</td><td>4</td><td>Ontario         </td><td> 154676</td><td>44.3711</td><td> -79.6769</td><td>97000</td><td>1</td></tr>\n",
       "</tbody>\n",
       "</table>\n"
      ],
      "text/latex": [
       "A tibble: 2401 × 11\n",
       "\\begin{tabular}{lllllllllll}\n",
       " City & Price & Address & Number\\_Beds & Number\\_Baths & Province & Population & Latitude & Longitude & Median\\_Family\\_Income & above.threshold\\\\\n",
       " <chr> & <dbl> & <chr> & <dbl> & <dbl> & <chr> & <dbl> & <dbl> & <dbl> & <dbl> & <dbl>\\\\\n",
       "\\hline\n",
       "\t Calgary         & 1050000 & 132 Carrington Close NW  & 6 & 4 & Alberta          & 1306784 & 51.0500 & -114.0667 & 100000 & 1\\\\\n",
       "\t Saint John      &  259900 & 9 Eastland Court         & 4 & 3 & New Brunswick    &   69895 & 45.2806 &  -66.0761 &  74000 & 0\\\\\n",
       "\t New Westminster &  769900 & 1601-301 CAPILANO ROAD   & 2 & 2 & British Columbia &   78916 & 49.2069 & -122.9111 &  82000 & 1\\\\\n",
       "\t Calgary         &  429000 & 228 Rocky Ridge Court NW & 3 & 2 & Alberta          & 1306784 & 51.0500 & -114.0667 & 100000 & 0\\\\\n",
       "\t London          &  529000 & 384 WHARNCLIFFE Road S   & 5 & 3 & Ontario          &  423369 & 42.9836 &  -81.2497 &  79500 & 0\\\\\n",
       "\t ⋮ & ⋮ & ⋮ & ⋮ & ⋮ & ⋮ & ⋮ & ⋮ & ⋮ & ⋮ & ⋮\\\\\n",
       "\t Hamilton  &  179000 & 60 Robinson Street   & 1 & 1 & Ontario          &  729560 & 43.2567 &  -79.8692 & 91000 & 0\\\\\n",
       "\t Vancouver & 1899000 & 4416 PRICE CRESCENT  & 4 & 3 & British Columbia & 2426160 & 49.2500 & -123.1000 & 90000 & 1\\\\\n",
       "\t Victoria  &  435000 & 303-611 Brookside Rd & 1 & 1 & British Columbia &  363222 & 48.4283 & -123.3647 & 85000 & 0\\\\\n",
       "\t Burnaby   &  699000 & 203 232 SIXTH STREET & 2 & 2 & British Columbia &  249125 & 49.2667 & -122.9667 & 83000 & 0\\\\\n",
       "\t Barrie    &  999900 & 40 JOSEPH Crescent   & 5 & 4 & Ontario          &  154676 & 44.3711 &  -79.6769 & 97000 & 1\\\\\n",
       "\\end{tabular}\n"
      ],
      "text/markdown": [
       "\n",
       "A tibble: 2401 × 11\n",
       "\n",
       "| City &lt;chr&gt; | Price &lt;dbl&gt; | Address &lt;chr&gt; | Number_Beds &lt;dbl&gt; | Number_Baths &lt;dbl&gt; | Province &lt;chr&gt; | Population &lt;dbl&gt; | Latitude &lt;dbl&gt; | Longitude &lt;dbl&gt; | Median_Family_Income &lt;dbl&gt; | above.threshold &lt;dbl&gt; |\n",
       "|---|---|---|---|---|---|---|---|---|---|---|\n",
       "| Calgary         | 1050000 | 132 Carrington Close NW  | 6 | 4 | Alberta          | 1306784 | 51.0500 | -114.0667 | 100000 | 1 |\n",
       "| Saint John      |  259900 | 9 Eastland Court         | 4 | 3 | New Brunswick    |   69895 | 45.2806 |  -66.0761 |  74000 | 0 |\n",
       "| New Westminster |  769900 | 1601-301 CAPILANO ROAD   | 2 | 2 | British Columbia |   78916 | 49.2069 | -122.9111 |  82000 | 1 |\n",
       "| Calgary         |  429000 | 228 Rocky Ridge Court NW | 3 | 2 | Alberta          | 1306784 | 51.0500 | -114.0667 | 100000 | 0 |\n",
       "| London          |  529000 | 384 WHARNCLIFFE Road S   | 5 | 3 | Ontario          |  423369 | 42.9836 |  -81.2497 |  79500 | 0 |\n",
       "| ⋮ | ⋮ | ⋮ | ⋮ | ⋮ | ⋮ | ⋮ | ⋮ | ⋮ | ⋮ | ⋮ |\n",
       "| Hamilton  |  179000 | 60 Robinson Street   | 1 | 1 | Ontario          |  729560 | 43.2567 |  -79.8692 | 91000 | 0 |\n",
       "| Vancouver | 1899000 | 4416 PRICE CRESCENT  | 4 | 3 | British Columbia | 2426160 | 49.2500 | -123.1000 | 90000 | 1 |\n",
       "| Victoria  |  435000 | 303-611 Brookside Rd | 1 | 1 | British Columbia |  363222 | 48.4283 | -123.3647 | 85000 | 0 |\n",
       "| Burnaby   |  699000 | 203 232 SIXTH STREET | 2 | 2 | British Columbia |  249125 | 49.2667 | -122.9667 | 83000 | 0 |\n",
       "| Barrie    |  999900 | 40 JOSEPH Crescent   | 5 | 4 | Ontario          |  154676 | 44.3711 |  -79.6769 | 97000 | 1 |\n",
       "\n"
      ],
      "text/plain": [
       "     City            Price   Address                  Number_Beds Number_Baths\n",
       "1    Calgary         1050000 132 Carrington Close NW  6           4           \n",
       "2    Saint John       259900 9 Eastland Court         4           3           \n",
       "3    New Westminster  769900 1601-301 CAPILANO ROAD   2           2           \n",
       "4    Calgary          429000 228 Rocky Ridge Court NW 3           2           \n",
       "5    London           529000 384 WHARNCLIFFE Road S   5           3           \n",
       "⋮    ⋮               ⋮       ⋮                        ⋮           ⋮           \n",
       "2397 Hamilton         179000 60 Robinson Street       1           1           \n",
       "2398 Vancouver       1899000 4416 PRICE CRESCENT      4           3           \n",
       "2399 Victoria         435000 303-611 Brookside Rd     1           1           \n",
       "2400 Burnaby          699000 203 232 SIXTH STREET     2           2           \n",
       "2401 Barrie           999900 40 JOSEPH Crescent       5           4           \n",
       "     Province         Population Latitude Longitude Median_Family_Income\n",
       "1    Alberta          1306784    51.0500  -114.0667 100000              \n",
       "2    New Brunswick      69895    45.2806   -66.0761  74000              \n",
       "3    British Columbia   78916    49.2069  -122.9111  82000              \n",
       "4    Alberta          1306784    51.0500  -114.0667 100000              \n",
       "5    Ontario           423369    42.9836   -81.2497  79500              \n",
       "⋮    ⋮                ⋮          ⋮        ⋮         ⋮                   \n",
       "2397 Ontario           729560    43.2567   -79.8692 91000               \n",
       "2398 British Columbia 2426160    49.2500  -123.1000 90000               \n",
       "2399 British Columbia  363222    48.4283  -123.3647 85000               \n",
       "2400 British Columbia  249125    49.2667  -122.9667 83000               \n",
       "2401 Ontario           154676    44.3711   -79.6769 97000               \n",
       "     above.threshold\n",
       "1    1              \n",
       "2    0              \n",
       "3    1              \n",
       "4    0              \n",
       "5    0              \n",
       "⋮    ⋮              \n",
       "2397 0              \n",
       "2398 1              \n",
       "2399 0              \n",
       "2400 0              \n",
       "2401 1              "
      ]
     },
     "metadata": {},
     "output_type": "display_data"
    }
   ],
   "source": [
    "#obtaining SRS\n",
    "set.seed(123)\n",
    "srs.sample <- housing[sample(N, n), ]\n",
    "srs.sample"
   ]
  },
  {
   "cell_type": "code",
   "execution_count": 6,
   "id": "da29c2d0-8dc8-4906-b36d-c210b40e96e9",
   "metadata": {},
   "outputs": [
    {
     "data": {
      "text/html": [
       "930395.450982924"
      ],
      "text/latex": [
       "930395.450982924"
      ],
      "text/markdown": [
       "930395.450982924"
      ],
      "text/plain": [
       "[1] 930395.5"
      ]
     },
     "metadata": {},
     "output_type": "display_data"
    }
   ],
   "source": [
    "#SRS estimate of the mean price\n",
    "srs.price.est <- mean(srs.sample$Price)\n",
    "srs.price.est"
   ]
  },
  {
   "cell_type": "code",
   "execution_count": 7,
   "id": "6b91a11d-d9e1-416d-85e0-f8db17fe028e",
   "metadata": {},
   "outputs": [
    {
     "data": {
      "text/html": [
       "19088.642165758"
      ],
      "text/latex": [
       "19088.642165758"
      ],
      "text/markdown": [
       "19088.642165758"
      ],
      "text/plain": [
       "[1] 19088.64"
      ]
     },
     "metadata": {},
     "output_type": "display_data"
    }
   ],
   "source": [
    "#SE for the mean price estimated via SRS\n",
    "srs.price.SE <- sd(srs.sample$Price)/sqrt(n)\n",
    "srs.price.SE"
   ]
  },
  {
   "cell_type": "code",
   "execution_count": 8,
   "id": "358cb50d-98a5-404f-a0b6-3aadc997af41",
   "metadata": {},
   "outputs": [
    {
     "data": {
      "text/html": [
       "892981.712338038"
      ],
      "text/latex": [
       "892981.712338038"
      ],
      "text/markdown": [
       "892981.712338038"
      ],
      "text/plain": [
       "[1] 892981.7"
      ]
     },
     "metadata": {},
     "output_type": "display_data"
    },
    {
     "data": {
      "text/html": [
       "967809.189627809"
      ],
      "text/latex": [
       "967809.189627809"
      ],
      "text/markdown": [
       "967809.189627809"
      ],
      "text/plain": [
       "[1] 967809.2"
      ]
     },
     "metadata": {},
     "output_type": "display_data"
    }
   ],
   "source": [
    "#SRS confidence interval for the mean price\n",
    "srs.price.lowerCI <- srs.price.est - 1.96 * srs.price.SE\n",
    "srs.price.lowerCI\n",
    "srs.price.upperCI <- srs.price.est + 1.96 * srs.price.SE\n",
    "srs.price.upperCI"
   ]
  },
  {
   "cell_type": "code",
   "execution_count": 9,
   "id": "a7ab1362-d9e3-4b42-9090-e182caf9b5fb",
   "metadata": {},
   "outputs": [
    {
     "data": {
      "text/html": [
       "0.479800083298626"
      ],
      "text/latex": [
       "0.479800083298626"
      ],
      "text/markdown": [
       "0.479800083298626"
      ],
      "text/plain": [
       "[1] 0.4798001"
      ]
     },
     "metadata": {},
     "output_type": "display_data"
    }
   ],
   "source": [
    "#SRS estimate of the proportion of listings greater than $700,000\n",
    "srs.prop.est <- mean(srs.sample$above.threshold)\n",
    "srs.prop.est"
   ]
  },
  {
   "cell_type": "code",
   "execution_count": 10,
   "id": "5b9212ff-7366-4cb9-90f4-f403be9f8f83",
   "metadata": {},
   "outputs": [
    {
     "data": {
      "text/html": [
       "0.0101957509537827"
      ],
      "text/latex": [
       "0.0101957509537827"
      ],
      "text/markdown": [
       "0.0101957509537827"
      ],
      "text/plain": [
       "[1] 0.01019575"
      ]
     },
     "metadata": {},
     "output_type": "display_data"
    }
   ],
   "source": [
    "#SE for the proportion of listings greater than $700,000 estimated via SRS\n",
    "srs.prop.SE <- sqrt(srs.prop.est * (1 - srs.prop.est)/n)\n",
    "srs.prop.SE"
   ]
  },
  {
   "cell_type": "code",
   "execution_count": 11,
   "id": "cf57aee6-66a3-4349-a52f-d56bb476269e",
   "metadata": {},
   "outputs": [
    {
     "data": {
      "text/html": [
       "0.459816411429211"
      ],
      "text/latex": [
       "0.459816411429211"
      ],
      "text/markdown": [
       "0.459816411429211"
      ],
      "text/plain": [
       "[1] 0.4598164"
      ]
     },
     "metadata": {},
     "output_type": "display_data"
    },
    {
     "data": {
      "text/html": [
       "0.49978375516804"
      ],
      "text/latex": [
       "0.49978375516804"
      ],
      "text/markdown": [
       "0.49978375516804"
      ],
      "text/plain": [
       "[1] 0.4997838"
      ]
     },
     "metadata": {},
     "output_type": "display_data"
    }
   ],
   "source": [
    "#SRS confidence interval for the proportion of listings greater than $700,000\n",
    "srs.prop.lowerCI <- srs.prop.est - 1.96 * srs.prop.SE\n",
    "srs.prop.lowerCI\n",
    "srs.prop.upperCI <- srs.prop.est + 1.96 * srs.prop.SE\n",
    "srs.prop.upperCI"
   ]
  },
  {
   "cell_type": "code",
   "execution_count": 12,
   "id": "07d4451f-2d72-454b-ab04-9074ee1a63f5",
   "metadata": {},
   "outputs": [
    {
     "data": {
      "text/html": [
       "<table class=\"dataframe\">\n",
       "<caption>A data.frame: 45 × 4</caption>\n",
       "<thead>\n",
       "\t<tr><th scope=col>City</th><th scope=col>N.h</th><th scope=col>N.prop.h</th><th scope=col>n.h</th></tr>\n",
       "\t<tr><th scope=col>&lt;chr&gt;</th><th scope=col>&lt;int&gt;</th><th scope=col>&lt;dbl&gt;</th><th scope=col>&lt;dbl&gt;</th></tr>\n",
       "</thead>\n",
       "<tbody>\n",
       "\t<tr><td>Abbotsford</td><td> 755</td><td>0.021108253</td><td>51</td></tr>\n",
       "\t<tr><td>Airdrie   </td><td> 225</td><td>0.006290539</td><td>15</td></tr>\n",
       "\t<tr><td>Barrie    </td><td>1012</td><td>0.028293447</td><td>68</td></tr>\n",
       "\t<tr><td>Brantford </td><td> 628</td><td>0.017557593</td><td>42</td></tr>\n",
       "\t<tr><td>Burnaby   </td><td>1334</td><td>0.037295907</td><td>89</td></tr>\n",
       "\t<tr><td>⋮</td><td>⋮</td><td>⋮</td><td>⋮</td></tr>\n",
       "\t<tr><td>Vancouver </td><td>1328</td><td>0.03712816</td><td>89</td></tr>\n",
       "\t<tr><td>Victoria  </td><td>1325</td><td>0.03704429</td><td>89</td></tr>\n",
       "\t<tr><td>White Rock</td><td>1175</td><td>0.03285059</td><td>79</td></tr>\n",
       "\t<tr><td>Windsor   </td><td> 720</td><td>0.02012972</td><td>48</td></tr>\n",
       "\t<tr><td>Winnipeg  </td><td> 531</td><td>0.01484567</td><td>36</td></tr>\n",
       "</tbody>\n",
       "</table>\n"
      ],
      "text/latex": [
       "A data.frame: 45 × 4\n",
       "\\begin{tabular}{llll}\n",
       " City & N.h & N.prop.h & n.h\\\\\n",
       " <chr> & <int> & <dbl> & <dbl>\\\\\n",
       "\\hline\n",
       "\t Abbotsford &  755 & 0.021108253 & 51\\\\\n",
       "\t Airdrie    &  225 & 0.006290539 & 15\\\\\n",
       "\t Barrie     & 1012 & 0.028293447 & 68\\\\\n",
       "\t Brantford  &  628 & 0.017557593 & 42\\\\\n",
       "\t Burnaby    & 1334 & 0.037295907 & 89\\\\\n",
       "\t ⋮ & ⋮ & ⋮ & ⋮\\\\\n",
       "\t Vancouver  & 1328 & 0.03712816 & 89\\\\\n",
       "\t Victoria   & 1325 & 0.03704429 & 89\\\\\n",
       "\t White Rock & 1175 & 0.03285059 & 79\\\\\n",
       "\t Windsor    &  720 & 0.02012972 & 48\\\\\n",
       "\t Winnipeg   &  531 & 0.01484567 & 36\\\\\n",
       "\\end{tabular}\n"
      ],
      "text/markdown": [
       "\n",
       "A data.frame: 45 × 4\n",
       "\n",
       "| City &lt;chr&gt; | N.h &lt;int&gt; | N.prop.h &lt;dbl&gt; | n.h &lt;dbl&gt; |\n",
       "|---|---|---|---|\n",
       "| Abbotsford |  755 | 0.021108253 | 51 |\n",
       "| Airdrie    |  225 | 0.006290539 | 15 |\n",
       "| Barrie     | 1012 | 0.028293447 | 68 |\n",
       "| Brantford  |  628 | 0.017557593 | 42 |\n",
       "| Burnaby    | 1334 | 0.037295907 | 89 |\n",
       "| ⋮ | ⋮ | ⋮ | ⋮ |\n",
       "| Vancouver  | 1328 | 0.03712816 | 89 |\n",
       "| Victoria   | 1325 | 0.03704429 | 89 |\n",
       "| White Rock | 1175 | 0.03285059 | 79 |\n",
       "| Windsor    |  720 | 0.02012972 | 48 |\n",
       "| Winnipeg   |  531 | 0.01484567 | 36 |\n",
       "\n"
      ],
      "text/plain": [
       "   City       N.h  N.prop.h    n.h\n",
       "1  Abbotsford  755 0.021108253 51 \n",
       "2  Airdrie     225 0.006290539 15 \n",
       "3  Barrie     1012 0.028293447 68 \n",
       "4  Brantford   628 0.017557593 42 \n",
       "5  Burnaby    1334 0.037295907 89 \n",
       "⋮  ⋮          ⋮    ⋮           ⋮  \n",
       "41 Vancouver  1328 0.03712816  89 \n",
       "42 Victoria   1325 0.03704429  89 \n",
       "43 White Rock 1175 0.03285059  79 \n",
       "44 Windsor     720 0.02012972  48 \n",
       "45 Winnipeg    531 0.01484567  36 "
      ]
     },
     "metadata": {},
     "output_type": "display_data"
    }
   ],
   "source": [
    "num.strata <- 45\n",
    "\n",
    "#determining sample size for each strata using proportional \n",
    "#allocation, split into integer and decimal components\n",
    "strata.sizes <- housing |> \n",
    "    count(City) |> \n",
    "    rename(N.h = n) |>\n",
    "    mutate(N.prop.h = N.h/N) |>\n",
    "    mutate(n.h = N.h*n/N) |>\n",
    "    mutate(decimal = n.h - floor(n.h)) |>\n",
    "    mutate(n.h = floor(n.h))\n",
    "\n",
    "#remaining observations to allocate\n",
    "leftover.obs <- n - sum(strata.sizes$n.h)\n",
    "\n",
    "#Ranking strata by decimal component and allocating an extra observation to the \n",
    "#strata with the largest decimal components. This ensures that the SRS and the \n",
    "#stratified sample have the same sample size, which is not the case if we were to \n",
    "#simply round the calculated sample size for each strata to the nearest integer.\n",
    "ranks <- row_number(strata.sizes$decimal)\n",
    "strata.sizes <- cbind(strata.sizes, ranks) |>\n",
    "    mutate(extra.obs = if_else(ranks > num.strata - leftover.obs, 1, 0))\n",
    "\n",
    "#population and sample size of each strata\n",
    "strata.sizes <- strata.sizes |>\n",
    "    mutate(n.h = n.h + extra.obs) |>\n",
    "    select(City:n.h)\n",
    "\n",
    "strata.sizes"
   ]
  },
  {
   "cell_type": "code",
   "execution_count": 13,
   "id": "a22cb987-a04c-47ea-8e7a-65e23bd29ff6",
   "metadata": {},
   "outputs": [
    {
     "data": {
      "text/html": [
       "<table class=\"dataframe\">\n",
       "<caption>A tibble: 2401 × 11</caption>\n",
       "<thead>\n",
       "\t<tr><th scope=col>City</th><th scope=col>Price</th><th scope=col>Address</th><th scope=col>Number_Beds</th><th scope=col>Number_Baths</th><th scope=col>Province</th><th scope=col>Population</th><th scope=col>Latitude</th><th scope=col>Longitude</th><th scope=col>Median_Family_Income</th><th scope=col>above.threshold</th></tr>\n",
       "\t<tr><th scope=col>&lt;chr&gt;</th><th scope=col>&lt;dbl&gt;</th><th scope=col>&lt;chr&gt;</th><th scope=col>&lt;dbl&gt;</th><th scope=col>&lt;dbl&gt;</th><th scope=col>&lt;chr&gt;</th><th scope=col>&lt;dbl&gt;</th><th scope=col>&lt;dbl&gt;</th><th scope=col>&lt;dbl&gt;</th><th scope=col>&lt;dbl&gt;</th><th scope=col>&lt;dbl&gt;</th></tr>\n",
       "</thead>\n",
       "<tbody>\n",
       "\t<tr><td>Abbotsford</td><td> 565000</td><td>305-2565 CAMPBELL AVENUE</td><td>3</td><td>2</td><td>British Columbia</td><td>153524</td><td>49.05</td><td>-122.3167</td><td>91000</td><td>0</td></tr>\n",
       "\t<tr><td>Abbotsford</td><td> 950000</td><td>2699 MITCHELL STREET    </td><td>5</td><td>3</td><td>British Columbia</td><td>153524</td><td>49.05</td><td>-122.3167</td><td>91000</td><td>1</td></tr>\n",
       "\t<tr><td>Abbotsford</td><td>1130000</td><td>32098 AUSTIN AVENUE     </td><td>5</td><td>2</td><td>British Columbia</td><td>153524</td><td>49.05</td><td>-122.3167</td><td>91000</td><td>1</td></tr>\n",
       "\t<tr><td>Abbotsford</td><td>1349700</td><td>36090 SOUTHRIDGE PLACE  </td><td>4</td><td>3</td><td>British Columbia</td><td>153524</td><td>49.05</td><td>-122.3167</td><td>91000</td><td>1</td></tr>\n",
       "\t<tr><td>Abbotsford</td><td> 849900</td><td>2052 OAKRIDGE CRESCENT  </td><td>3</td><td>1</td><td>British Columbia</td><td>153524</td><td>49.05</td><td>-122.3167</td><td>91000</td><td>1</td></tr>\n",
       "\t<tr><td>⋮</td><td>⋮</td><td>⋮</td><td>⋮</td><td>⋮</td><td>⋮</td><td>⋮</td><td>⋮</td><td>⋮</td><td>⋮</td><td>⋮</td></tr>\n",
       "\t<tr><td>Winnipeg</td><td>425000</td><td>39 Highcastle Crescent </td><td>4</td><td>3</td><td>Manitoba</td><td>758515</td><td>49.8844</td><td>-97.1464</td><td>83000</td><td>0</td></tr>\n",
       "\t<tr><td>Winnipeg</td><td>369900</td><td>202-90 Bole Street     </td><td>2</td><td>2</td><td>Manitoba</td><td>758515</td><td>49.8844</td><td>-97.1464</td><td>83000</td><td>0</td></tr>\n",
       "\t<tr><td>Winnipeg</td><td>169500</td><td>3-1525 Chancellor Drive</td><td>1</td><td>1</td><td>Manitoba</td><td>758515</td><td>49.8844</td><td>-97.1464</td><td>83000</td><td>0</td></tr>\n",
       "\t<tr><td>Winnipeg</td><td>849900</td><td>454 Edward Avenue      </td><td>4</td><td>2</td><td>Manitoba</td><td>758515</td><td>49.8844</td><td>-97.1464</td><td>83000</td><td>1</td></tr>\n",
       "\t<tr><td>Winnipeg</td><td>779900</td><td>41 Summerscales Place  </td><td>4</td><td>3</td><td>Manitoba</td><td>758515</td><td>49.8844</td><td>-97.1464</td><td>83000</td><td>1</td></tr>\n",
       "</tbody>\n",
       "</table>\n"
      ],
      "text/latex": [
       "A tibble: 2401 × 11\n",
       "\\begin{tabular}{lllllllllll}\n",
       " City & Price & Address & Number\\_Beds & Number\\_Baths & Province & Population & Latitude & Longitude & Median\\_Family\\_Income & above.threshold\\\\\n",
       " <chr> & <dbl> & <chr> & <dbl> & <dbl> & <chr> & <dbl> & <dbl> & <dbl> & <dbl> & <dbl>\\\\\n",
       "\\hline\n",
       "\t Abbotsford &  565000 & 305-2565 CAMPBELL AVENUE & 3 & 2 & British Columbia & 153524 & 49.05 & -122.3167 & 91000 & 0\\\\\n",
       "\t Abbotsford &  950000 & 2699 MITCHELL STREET     & 5 & 3 & British Columbia & 153524 & 49.05 & -122.3167 & 91000 & 1\\\\\n",
       "\t Abbotsford & 1130000 & 32098 AUSTIN AVENUE      & 5 & 2 & British Columbia & 153524 & 49.05 & -122.3167 & 91000 & 1\\\\\n",
       "\t Abbotsford & 1349700 & 36090 SOUTHRIDGE PLACE   & 4 & 3 & British Columbia & 153524 & 49.05 & -122.3167 & 91000 & 1\\\\\n",
       "\t Abbotsford &  849900 & 2052 OAKRIDGE CRESCENT   & 3 & 1 & British Columbia & 153524 & 49.05 & -122.3167 & 91000 & 1\\\\\n",
       "\t ⋮ & ⋮ & ⋮ & ⋮ & ⋮ & ⋮ & ⋮ & ⋮ & ⋮ & ⋮ & ⋮\\\\\n",
       "\t Winnipeg & 425000 & 39 Highcastle Crescent  & 4 & 3 & Manitoba & 758515 & 49.8844 & -97.1464 & 83000 & 0\\\\\n",
       "\t Winnipeg & 369900 & 202-90 Bole Street      & 2 & 2 & Manitoba & 758515 & 49.8844 & -97.1464 & 83000 & 0\\\\\n",
       "\t Winnipeg & 169500 & 3-1525 Chancellor Drive & 1 & 1 & Manitoba & 758515 & 49.8844 & -97.1464 & 83000 & 0\\\\\n",
       "\t Winnipeg & 849900 & 454 Edward Avenue       & 4 & 2 & Manitoba & 758515 & 49.8844 & -97.1464 & 83000 & 1\\\\\n",
       "\t Winnipeg & 779900 & 41 Summerscales Place   & 4 & 3 & Manitoba & 758515 & 49.8844 & -97.1464 & 83000 & 1\\\\\n",
       "\\end{tabular}\n"
      ],
      "text/markdown": [
       "\n",
       "A tibble: 2401 × 11\n",
       "\n",
       "| City &lt;chr&gt; | Price &lt;dbl&gt; | Address &lt;chr&gt; | Number_Beds &lt;dbl&gt; | Number_Baths &lt;dbl&gt; | Province &lt;chr&gt; | Population &lt;dbl&gt; | Latitude &lt;dbl&gt; | Longitude &lt;dbl&gt; | Median_Family_Income &lt;dbl&gt; | above.threshold &lt;dbl&gt; |\n",
       "|---|---|---|---|---|---|---|---|---|---|---|\n",
       "| Abbotsford |  565000 | 305-2565 CAMPBELL AVENUE | 3 | 2 | British Columbia | 153524 | 49.05 | -122.3167 | 91000 | 0 |\n",
       "| Abbotsford |  950000 | 2699 MITCHELL STREET     | 5 | 3 | British Columbia | 153524 | 49.05 | -122.3167 | 91000 | 1 |\n",
       "| Abbotsford | 1130000 | 32098 AUSTIN AVENUE      | 5 | 2 | British Columbia | 153524 | 49.05 | -122.3167 | 91000 | 1 |\n",
       "| Abbotsford | 1349700 | 36090 SOUTHRIDGE PLACE   | 4 | 3 | British Columbia | 153524 | 49.05 | -122.3167 | 91000 | 1 |\n",
       "| Abbotsford |  849900 | 2052 OAKRIDGE CRESCENT   | 3 | 1 | British Columbia | 153524 | 49.05 | -122.3167 | 91000 | 1 |\n",
       "| ⋮ | ⋮ | ⋮ | ⋮ | ⋮ | ⋮ | ⋮ | ⋮ | ⋮ | ⋮ | ⋮ |\n",
       "| Winnipeg | 425000 | 39 Highcastle Crescent  | 4 | 3 | Manitoba | 758515 | 49.8844 | -97.1464 | 83000 | 0 |\n",
       "| Winnipeg | 369900 | 202-90 Bole Street      | 2 | 2 | Manitoba | 758515 | 49.8844 | -97.1464 | 83000 | 0 |\n",
       "| Winnipeg | 169500 | 3-1525 Chancellor Drive | 1 | 1 | Manitoba | 758515 | 49.8844 | -97.1464 | 83000 | 0 |\n",
       "| Winnipeg | 849900 | 454 Edward Avenue       | 4 | 2 | Manitoba | 758515 | 49.8844 | -97.1464 | 83000 | 1 |\n",
       "| Winnipeg | 779900 | 41 Summerscales Place   | 4 | 3 | Manitoba | 758515 | 49.8844 | -97.1464 | 83000 | 1 |\n",
       "\n"
      ],
      "text/plain": [
       "     City       Price   Address                  Number_Beds Number_Baths\n",
       "1    Abbotsford  565000 305-2565 CAMPBELL AVENUE 3           2           \n",
       "2    Abbotsford  950000 2699 MITCHELL STREET     5           3           \n",
       "3    Abbotsford 1130000 32098 AUSTIN AVENUE      5           2           \n",
       "4    Abbotsford 1349700 36090 SOUTHRIDGE PLACE   4           3           \n",
       "5    Abbotsford  849900 2052 OAKRIDGE CRESCENT   3           1           \n",
       "⋮    ⋮          ⋮       ⋮                        ⋮           ⋮           \n",
       "2397 Winnipeg   425000  39 Highcastle Crescent   4           3           \n",
       "2398 Winnipeg   369900  202-90 Bole Street       2           2           \n",
       "2399 Winnipeg   169500  3-1525 Chancellor Drive  1           1           \n",
       "2400 Winnipeg   849900  454 Edward Avenue        4           2           \n",
       "2401 Winnipeg   779900  41 Summerscales Place    4           3           \n",
       "     Province         Population Latitude Longitude Median_Family_Income\n",
       "1    British Columbia 153524     49.05    -122.3167 91000               \n",
       "2    British Columbia 153524     49.05    -122.3167 91000               \n",
       "3    British Columbia 153524     49.05    -122.3167 91000               \n",
       "4    British Columbia 153524     49.05    -122.3167 91000               \n",
       "5    British Columbia 153524     49.05    -122.3167 91000               \n",
       "⋮    ⋮                ⋮          ⋮        ⋮         ⋮                   \n",
       "2397 Manitoba         758515     49.8844  -97.1464  83000               \n",
       "2398 Manitoba         758515     49.8844  -97.1464  83000               \n",
       "2399 Manitoba         758515     49.8844  -97.1464  83000               \n",
       "2400 Manitoba         758515     49.8844  -97.1464  83000               \n",
       "2401 Manitoba         758515     49.8844  -97.1464  83000               \n",
       "     above.threshold\n",
       "1    0              \n",
       "2    1              \n",
       "3    1              \n",
       "4    1              \n",
       "5    1              \n",
       "⋮    ⋮              \n",
       "2397 0              \n",
       "2398 0              \n",
       "2399 0              \n",
       "2400 1              \n",
       "2401 1              "
      ]
     },
     "metadata": {},
     "output_type": "display_data"
    }
   ],
   "source": [
    "#obtaining stratified sample\n",
    "str.sample <- NULL\n",
    "strata.summaries <- NULL\n",
    "set.seed(420)\n",
    "for (i in 1:nrow(strata.sizes)) {\n",
    "    pop.h <- filter(housing, City == strata.sizes$City[i])\n",
    "    sample.h <- sample_n(pop.h, strata.sizes$n.h[i], replace = FALSE)\n",
    "    str.sample <- rbind(str.sample, sample.h)\n",
    "    summary <- summarize(sample.h, priceAVG = mean(Price), priceSE = sd(Price), prop = mean(above.threshold))\n",
    "    strata.summaries <- rbind(strata.summaries, summary)\n",
    "}\n",
    "str.sample"
   ]
  },
  {
   "cell_type": "code",
   "execution_count": 14,
   "id": "6e673f44-79ac-40bf-a153-63e30c7686bf",
   "metadata": {},
   "outputs": [
    {
     "data": {
      "text/html": [
       "<table class=\"dataframe\">\n",
       "<caption>A data.frame: 45 × 8</caption>\n",
       "<thead>\n",
       "\t<tr><th scope=col>City</th><th scope=col>priceAVG</th><th scope=col>priceSE</th><th scope=col>prop</th><th scope=col>N.h</th><th scope=col>N.prop.h</th><th scope=col>n.h</th><th scope=col>propSE</th></tr>\n",
       "\t<tr><th scope=col>&lt;chr&gt;</th><th scope=col>&lt;dbl&gt;</th><th scope=col>&lt;dbl&gt;</th><th scope=col>&lt;dbl&gt;</th><th scope=col>&lt;int&gt;</th><th scope=col>&lt;dbl&gt;</th><th scope=col>&lt;dbl&gt;</th><th scope=col>&lt;dbl&gt;</th></tr>\n",
       "</thead>\n",
       "<tbody>\n",
       "\t<tr><td>Abbotsford      </td><td>1454707.3</td><td>207343.00</td><td>0.74509804</td><td> 755</td><td>0.021108253</td><td> 51</td><td>0.06102506</td></tr>\n",
       "\t<tr><td>Airdrie         </td><td> 699813.3</td><td> 79773.86</td><td>0.53333333</td><td> 225</td><td>0.006290539</td><td> 15</td><td>0.12881224</td></tr>\n",
       "\t<tr><td>Barrie          </td><td>1159746.8</td><td>197344.25</td><td>0.75000000</td><td>1012</td><td>0.028293447</td><td> 68</td><td>0.05251050</td></tr>\n",
       "\t<tr><td>Brantford       </td><td> 900254.6</td><td> 57814.26</td><td>0.64285714</td><td> 628</td><td>0.017557593</td><td> 42</td><td>0.07393560</td></tr>\n",
       "\t<tr><td>Burnaby         </td><td>1326360.2</td><td>101661.62</td><td>0.70786517</td><td>1334</td><td>0.037295907</td><td> 89</td><td>0.04820276</td></tr>\n",
       "\t<tr><td>Caledon         </td><td>1287134.4</td><td> 75931.14</td><td>0.83333333</td><td>1336</td><td>0.037351823</td><td> 90</td><td>0.03928371</td></tr>\n",
       "\t<tr><td>Calgary         </td><td> 583603.5</td><td> 35660.64</td><td>0.20224719</td><td>1322</td><td>0.036960412</td><td> 89</td><td>0.04257753</td></tr>\n",
       "\t<tr><td>Edmonton        </td><td> 463932.9</td><td> 37231.79</td><td>0.16483516</td><td>1351</td><td>0.037771192</td><td> 91</td><td>0.03889469</td></tr>\n",
       "\t<tr><td>Guelph          </td><td> 964966.0</td><td>133308.80</td><td>0.41379310</td><td> 436</td><td>0.012189667</td><td> 29</td><td>0.09145724</td></tr>\n",
       "\t<tr><td>Halifax         </td><td> 535600.0</td><td> 53046.17</td><td>0.00000000</td><td>  91</td><td>0.002544174</td><td>  6</td><td>0.00000000</td></tr>\n",
       "\t<tr><td>Hamilton        </td><td>1006016.1</td><td> 84416.69</td><td>0.61627907</td><td>1289</td><td>0.036037799</td><td> 86</td><td>0.05243813</td></tr>\n",
       "\t<tr><td>Kamloops        </td><td> 633123.3</td><td> 48483.33</td><td>0.36666667</td><td> 442</td><td>0.012357414</td><td> 30</td><td>0.08798148</td></tr>\n",
       "\t<tr><td>Kelowna         </td><td>1093128.9</td><td> 70346.96</td><td>0.68604651</td><td>1280</td><td>0.035786178</td><td> 86</td><td>0.05004494</td></tr>\n",
       "\t<tr><td>Kingston        </td><td> 880772.7</td><td> 95727.54</td><td>0.63636364</td><td> 486</td><td>0.013587564</td><td> 33</td><td>0.08373931</td></tr>\n",
       "\t<tr><td>Kitchener       </td><td> 939747.3</td><td> 67235.24</td><td>0.60000000</td><td>1199</td><td>0.033521584</td><td> 80</td><td>0.05477226</td></tr>\n",
       "\t<tr><td>Lethbridge      </td><td> 396768.0</td><td> 50133.13</td><td>0.12000000</td><td> 379</td><td>0.010596064</td><td> 25</td><td>0.06499231</td></tr>\n",
       "\t<tr><td>London          </td><td> 817266.5</td><td> 41385.41</td><td>0.57777778</td><td>1345</td><td>0.037603444</td><td> 90</td><td>0.05206306</td></tr>\n",
       "\t<tr><td>Maple Ridge     </td><td>1525172.9</td><td>196122.94</td><td>0.75581395</td><td>1282</td><td>0.035842093</td><td> 86</td><td>0.04632534</td></tr>\n",
       "\t<tr><td>Medicine Hat    </td><td> 586888.9</td><td> 73660.95</td><td>0.33333333</td><td> 277</td><td>0.007744352</td><td> 18</td><td>0.11111111</td></tr>\n",
       "\t<tr><td>Moncton         </td><td> 463707.1</td><td> 49923.50</td><td>0.17857143</td><td> 416</td><td>0.011630508</td><td> 28</td><td>0.07237888</td></tr>\n",
       "\t<tr><td>Montreal        </td><td>1276778.5</td><td>259701.61</td><td>0.78571429</td><td> 212</td><td>0.005927086</td><td> 14</td><td>0.10966421</td></tr>\n",
       "\t<tr><td>Nanaimo         </td><td> 791510.6</td><td> 66310.54</td><td>0.50000000</td><td> 683</td><td>0.019095281</td><td> 46</td><td>0.07372098</td></tr>\n",
       "\t<tr><td>New Westminster </td><td>1214277.0</td><td> 73224.17</td><td>0.67777778</td><td>1337</td><td>0.037379781</td><td> 90</td><td>0.04926065</td></tr>\n",
       "\t<tr><td>Oshawa          </td><td> 974427.0</td><td> 51763.47</td><td>0.73972603</td><td>1082</td><td>0.030250503</td><td> 73</td><td>0.05135579</td></tr>\n",
       "\t<tr><td>Ottawa          </td><td> 905501.4</td><td> 75095.85</td><td>0.50000000</td><td>1097</td><td>0.030669873</td><td> 74</td><td>0.05812382</td></tr>\n",
       "\t<tr><td>Peterborough    </td><td> 757310.0</td><td> 60883.83</td><td>0.40000000</td><td> 307</td><td>0.008583091</td><td> 20</td><td>0.10954451</td></tr>\n",
       "\t<tr><td>Prince George   </td><td> 433600.0</td><td> 40586.39</td><td>0.00000000</td><td> 307</td><td>0.008583091</td><td> 21</td><td>0.00000000</td></tr>\n",
       "\t<tr><td>Quebec          </td><td> 353186.2</td><td> 28290.23</td><td>0.00000000</td><td> 196</td><td>0.005479758</td><td> 13</td><td>0.00000000</td></tr>\n",
       "\t<tr><td>Red Deer        </td><td> 439999.8</td><td> 85998.83</td><td>0.18181818</td><td> 326</td><td>0.009114292</td><td> 22</td><td>0.08223037</td></tr>\n",
       "\t<tr><td>Regina          </td><td> 297668.8</td><td> 14107.47</td><td>0.02325581</td><td>1917</td><td>0.053595393</td><td>129</td><td>0.01326971</td></tr>\n",
       "\t<tr><td>Saint John      </td><td> 301051.6</td><td> 34546.66</td><td>0.03225806</td><td> 458</td><td>0.012804742</td><td> 31</td><td>0.03173351</td></tr>\n",
       "\t<tr><td>Saskatoon       </td><td> 468806.2</td><td> 31072.75</td><td>0.13223140</td><td>1800</td><td>0.050324312</td><td>121</td><td>0.03079474</td></tr>\n",
       "\t<tr><td>Sault Ste. Marie</td><td> 428372.7</td><td> 75373.01</td><td>0.18181818</td><td> 165</td><td>0.004613062</td><td> 11</td><td>0.11629130</td></tr>\n",
       "\t<tr><td>Sherbrooke      </td><td> 586724.2</td><td>121041.03</td><td>0.15384615</td><td> 197</td><td>0.005507716</td><td> 13</td><td>0.10006825</td></tr>\n",
       "\t<tr><td>St. Catharines  </td><td> 931131.0</td><td> 64910.06</td><td>0.56470588</td><td>1268</td><td>0.035450682</td><td> 85</td><td>0.05377657</td></tr>\n",
       "\t<tr><td>St. John's      </td><td> 452079.5</td><td> 31193.18</td><td>0.13636364</td><td> 654</td><td>0.018284500</td><td> 44</td><td>0.05173547</td></tr>\n",
       "\t<tr><td>Sudbury         </td><td> 464094.4</td><td> 55707.55</td><td>0.07142857</td><td> 203</td><td>0.005675464</td><td> 14</td><td>0.06883029</td></tr>\n",
       "\t<tr><td>Thunder Bay     </td><td> 441320.0</td><td> 52189.68</td><td>0.10000000</td><td> 154</td><td>0.004305524</td><td> 10</td><td>0.09486833</td></tr>\n",
       "\t<tr><td>Toronto         </td><td>1124805.1</td><td> 87542.65</td><td>0.66279070</td><td>1276</td><td>0.035674346</td><td> 86</td><td>0.05097870</td></tr>\n",
       "\t<tr><td>Trois-Rivieres  </td><td> 423909.1</td><td> 58991.58</td><td>0.09090909</td><td> 165</td><td>0.004613062</td><td> 11</td><td>0.08667842</td></tr>\n",
       "\t<tr><td>Vancouver       </td><td>1763509.4</td><td>129873.05</td><td>0.84269663</td><td>1328</td><td>0.037128159</td><td> 89</td><td>0.03859310</td></tr>\n",
       "\t<tr><td>Victoria        </td><td>1109811.0</td><td>103752.81</td><td>0.62921348</td><td>1325</td><td>0.037044285</td><td> 89</td><td>0.05119953</td></tr>\n",
       "\t<tr><td>White Rock      </td><td>1849104.5</td><td>152071.95</td><td>0.82278481</td><td>1175</td><td>0.032850593</td><td> 79</td><td>0.04296156</td></tr>\n",
       "\t<tr><td>Windsor         </td><td> 725015.0</td><td> 70900.02</td><td>0.33333333</td><td> 720</td><td>0.020129725</td><td> 48</td><td>0.06804138</td></tr>\n",
       "\t<tr><td>Winnipeg        </td><td> 497395.6</td><td> 62979.91</td><td>0.16666667</td><td> 531</td><td>0.014845672</td><td> 36</td><td>0.06211300</td></tr>\n",
       "</tbody>\n",
       "</table>\n"
      ],
      "text/latex": [
       "A data.frame: 45 × 8\n",
       "\\begin{tabular}{llllllll}\n",
       " City & priceAVG & priceSE & prop & N.h & N.prop.h & n.h & propSE\\\\\n",
       " <chr> & <dbl> & <dbl> & <dbl> & <int> & <dbl> & <dbl> & <dbl>\\\\\n",
       "\\hline\n",
       "\t Abbotsford       & 1454707.3 & 207343.00 & 0.74509804 &  755 & 0.021108253 &  51 & 0.06102506\\\\\n",
       "\t Airdrie          &  699813.3 &  79773.86 & 0.53333333 &  225 & 0.006290539 &  15 & 0.12881224\\\\\n",
       "\t Barrie           & 1159746.8 & 197344.25 & 0.75000000 & 1012 & 0.028293447 &  68 & 0.05251050\\\\\n",
       "\t Brantford        &  900254.6 &  57814.26 & 0.64285714 &  628 & 0.017557593 &  42 & 0.07393560\\\\\n",
       "\t Burnaby          & 1326360.2 & 101661.62 & 0.70786517 & 1334 & 0.037295907 &  89 & 0.04820276\\\\\n",
       "\t Caledon          & 1287134.4 &  75931.14 & 0.83333333 & 1336 & 0.037351823 &  90 & 0.03928371\\\\\n",
       "\t Calgary          &  583603.5 &  35660.64 & 0.20224719 & 1322 & 0.036960412 &  89 & 0.04257753\\\\\n",
       "\t Edmonton         &  463932.9 &  37231.79 & 0.16483516 & 1351 & 0.037771192 &  91 & 0.03889469\\\\\n",
       "\t Guelph           &  964966.0 & 133308.80 & 0.41379310 &  436 & 0.012189667 &  29 & 0.09145724\\\\\n",
       "\t Halifax          &  535600.0 &  53046.17 & 0.00000000 &   91 & 0.002544174 &   6 & 0.00000000\\\\\n",
       "\t Hamilton         & 1006016.1 &  84416.69 & 0.61627907 & 1289 & 0.036037799 &  86 & 0.05243813\\\\\n",
       "\t Kamloops         &  633123.3 &  48483.33 & 0.36666667 &  442 & 0.012357414 &  30 & 0.08798148\\\\\n",
       "\t Kelowna          & 1093128.9 &  70346.96 & 0.68604651 & 1280 & 0.035786178 &  86 & 0.05004494\\\\\n",
       "\t Kingston         &  880772.7 &  95727.54 & 0.63636364 &  486 & 0.013587564 &  33 & 0.08373931\\\\\n",
       "\t Kitchener        &  939747.3 &  67235.24 & 0.60000000 & 1199 & 0.033521584 &  80 & 0.05477226\\\\\n",
       "\t Lethbridge       &  396768.0 &  50133.13 & 0.12000000 &  379 & 0.010596064 &  25 & 0.06499231\\\\\n",
       "\t London           &  817266.5 &  41385.41 & 0.57777778 & 1345 & 0.037603444 &  90 & 0.05206306\\\\\n",
       "\t Maple Ridge      & 1525172.9 & 196122.94 & 0.75581395 & 1282 & 0.035842093 &  86 & 0.04632534\\\\\n",
       "\t Medicine Hat     &  586888.9 &  73660.95 & 0.33333333 &  277 & 0.007744352 &  18 & 0.11111111\\\\\n",
       "\t Moncton          &  463707.1 &  49923.50 & 0.17857143 &  416 & 0.011630508 &  28 & 0.07237888\\\\\n",
       "\t Montreal         & 1276778.5 & 259701.61 & 0.78571429 &  212 & 0.005927086 &  14 & 0.10966421\\\\\n",
       "\t Nanaimo          &  791510.6 &  66310.54 & 0.50000000 &  683 & 0.019095281 &  46 & 0.07372098\\\\\n",
       "\t New Westminster  & 1214277.0 &  73224.17 & 0.67777778 & 1337 & 0.037379781 &  90 & 0.04926065\\\\\n",
       "\t Oshawa           &  974427.0 &  51763.47 & 0.73972603 & 1082 & 0.030250503 &  73 & 0.05135579\\\\\n",
       "\t Ottawa           &  905501.4 &  75095.85 & 0.50000000 & 1097 & 0.030669873 &  74 & 0.05812382\\\\\n",
       "\t Peterborough     &  757310.0 &  60883.83 & 0.40000000 &  307 & 0.008583091 &  20 & 0.10954451\\\\\n",
       "\t Prince George    &  433600.0 &  40586.39 & 0.00000000 &  307 & 0.008583091 &  21 & 0.00000000\\\\\n",
       "\t Quebec           &  353186.2 &  28290.23 & 0.00000000 &  196 & 0.005479758 &  13 & 0.00000000\\\\\n",
       "\t Red Deer         &  439999.8 &  85998.83 & 0.18181818 &  326 & 0.009114292 &  22 & 0.08223037\\\\\n",
       "\t Regina           &  297668.8 &  14107.47 & 0.02325581 & 1917 & 0.053595393 & 129 & 0.01326971\\\\\n",
       "\t Saint John       &  301051.6 &  34546.66 & 0.03225806 &  458 & 0.012804742 &  31 & 0.03173351\\\\\n",
       "\t Saskatoon        &  468806.2 &  31072.75 & 0.13223140 & 1800 & 0.050324312 & 121 & 0.03079474\\\\\n",
       "\t Sault Ste. Marie &  428372.7 &  75373.01 & 0.18181818 &  165 & 0.004613062 &  11 & 0.11629130\\\\\n",
       "\t Sherbrooke       &  586724.2 & 121041.03 & 0.15384615 &  197 & 0.005507716 &  13 & 0.10006825\\\\\n",
       "\t St. Catharines   &  931131.0 &  64910.06 & 0.56470588 & 1268 & 0.035450682 &  85 & 0.05377657\\\\\n",
       "\t St. John's       &  452079.5 &  31193.18 & 0.13636364 &  654 & 0.018284500 &  44 & 0.05173547\\\\\n",
       "\t Sudbury          &  464094.4 &  55707.55 & 0.07142857 &  203 & 0.005675464 &  14 & 0.06883029\\\\\n",
       "\t Thunder Bay      &  441320.0 &  52189.68 & 0.10000000 &  154 & 0.004305524 &  10 & 0.09486833\\\\\n",
       "\t Toronto          & 1124805.1 &  87542.65 & 0.66279070 & 1276 & 0.035674346 &  86 & 0.05097870\\\\\n",
       "\t Trois-Rivieres   &  423909.1 &  58991.58 & 0.09090909 &  165 & 0.004613062 &  11 & 0.08667842\\\\\n",
       "\t Vancouver        & 1763509.4 & 129873.05 & 0.84269663 & 1328 & 0.037128159 &  89 & 0.03859310\\\\\n",
       "\t Victoria         & 1109811.0 & 103752.81 & 0.62921348 & 1325 & 0.037044285 &  89 & 0.05119953\\\\\n",
       "\t White Rock       & 1849104.5 & 152071.95 & 0.82278481 & 1175 & 0.032850593 &  79 & 0.04296156\\\\\n",
       "\t Windsor          &  725015.0 &  70900.02 & 0.33333333 &  720 & 0.020129725 &  48 & 0.06804138\\\\\n",
       "\t Winnipeg         &  497395.6 &  62979.91 & 0.16666667 &  531 & 0.014845672 &  36 & 0.06211300\\\\\n",
       "\\end{tabular}\n"
      ],
      "text/markdown": [
       "\n",
       "A data.frame: 45 × 8\n",
       "\n",
       "| City &lt;chr&gt; | priceAVG &lt;dbl&gt; | priceSE &lt;dbl&gt; | prop &lt;dbl&gt; | N.h &lt;int&gt; | N.prop.h &lt;dbl&gt; | n.h &lt;dbl&gt; | propSE &lt;dbl&gt; |\n",
       "|---|---|---|---|---|---|---|---|\n",
       "| Abbotsford       | 1454707.3 | 207343.00 | 0.74509804 |  755 | 0.021108253 |  51 | 0.06102506 |\n",
       "| Airdrie          |  699813.3 |  79773.86 | 0.53333333 |  225 | 0.006290539 |  15 | 0.12881224 |\n",
       "| Barrie           | 1159746.8 | 197344.25 | 0.75000000 | 1012 | 0.028293447 |  68 | 0.05251050 |\n",
       "| Brantford        |  900254.6 |  57814.26 | 0.64285714 |  628 | 0.017557593 |  42 | 0.07393560 |\n",
       "| Burnaby          | 1326360.2 | 101661.62 | 0.70786517 | 1334 | 0.037295907 |  89 | 0.04820276 |\n",
       "| Caledon          | 1287134.4 |  75931.14 | 0.83333333 | 1336 | 0.037351823 |  90 | 0.03928371 |\n",
       "| Calgary          |  583603.5 |  35660.64 | 0.20224719 | 1322 | 0.036960412 |  89 | 0.04257753 |\n",
       "| Edmonton         |  463932.9 |  37231.79 | 0.16483516 | 1351 | 0.037771192 |  91 | 0.03889469 |\n",
       "| Guelph           |  964966.0 | 133308.80 | 0.41379310 |  436 | 0.012189667 |  29 | 0.09145724 |\n",
       "| Halifax          |  535600.0 |  53046.17 | 0.00000000 |   91 | 0.002544174 |   6 | 0.00000000 |\n",
       "| Hamilton         | 1006016.1 |  84416.69 | 0.61627907 | 1289 | 0.036037799 |  86 | 0.05243813 |\n",
       "| Kamloops         |  633123.3 |  48483.33 | 0.36666667 |  442 | 0.012357414 |  30 | 0.08798148 |\n",
       "| Kelowna          | 1093128.9 |  70346.96 | 0.68604651 | 1280 | 0.035786178 |  86 | 0.05004494 |\n",
       "| Kingston         |  880772.7 |  95727.54 | 0.63636364 |  486 | 0.013587564 |  33 | 0.08373931 |\n",
       "| Kitchener        |  939747.3 |  67235.24 | 0.60000000 | 1199 | 0.033521584 |  80 | 0.05477226 |\n",
       "| Lethbridge       |  396768.0 |  50133.13 | 0.12000000 |  379 | 0.010596064 |  25 | 0.06499231 |\n",
       "| London           |  817266.5 |  41385.41 | 0.57777778 | 1345 | 0.037603444 |  90 | 0.05206306 |\n",
       "| Maple Ridge      | 1525172.9 | 196122.94 | 0.75581395 | 1282 | 0.035842093 |  86 | 0.04632534 |\n",
       "| Medicine Hat     |  586888.9 |  73660.95 | 0.33333333 |  277 | 0.007744352 |  18 | 0.11111111 |\n",
       "| Moncton          |  463707.1 |  49923.50 | 0.17857143 |  416 | 0.011630508 |  28 | 0.07237888 |\n",
       "| Montreal         | 1276778.5 | 259701.61 | 0.78571429 |  212 | 0.005927086 |  14 | 0.10966421 |\n",
       "| Nanaimo          |  791510.6 |  66310.54 | 0.50000000 |  683 | 0.019095281 |  46 | 0.07372098 |\n",
       "| New Westminster  | 1214277.0 |  73224.17 | 0.67777778 | 1337 | 0.037379781 |  90 | 0.04926065 |\n",
       "| Oshawa           |  974427.0 |  51763.47 | 0.73972603 | 1082 | 0.030250503 |  73 | 0.05135579 |\n",
       "| Ottawa           |  905501.4 |  75095.85 | 0.50000000 | 1097 | 0.030669873 |  74 | 0.05812382 |\n",
       "| Peterborough     |  757310.0 |  60883.83 | 0.40000000 |  307 | 0.008583091 |  20 | 0.10954451 |\n",
       "| Prince George    |  433600.0 |  40586.39 | 0.00000000 |  307 | 0.008583091 |  21 | 0.00000000 |\n",
       "| Quebec           |  353186.2 |  28290.23 | 0.00000000 |  196 | 0.005479758 |  13 | 0.00000000 |\n",
       "| Red Deer         |  439999.8 |  85998.83 | 0.18181818 |  326 | 0.009114292 |  22 | 0.08223037 |\n",
       "| Regina           |  297668.8 |  14107.47 | 0.02325581 | 1917 | 0.053595393 | 129 | 0.01326971 |\n",
       "| Saint John       |  301051.6 |  34546.66 | 0.03225806 |  458 | 0.012804742 |  31 | 0.03173351 |\n",
       "| Saskatoon        |  468806.2 |  31072.75 | 0.13223140 | 1800 | 0.050324312 | 121 | 0.03079474 |\n",
       "| Sault Ste. Marie |  428372.7 |  75373.01 | 0.18181818 |  165 | 0.004613062 |  11 | 0.11629130 |\n",
       "| Sherbrooke       |  586724.2 | 121041.03 | 0.15384615 |  197 | 0.005507716 |  13 | 0.10006825 |\n",
       "| St. Catharines   |  931131.0 |  64910.06 | 0.56470588 | 1268 | 0.035450682 |  85 | 0.05377657 |\n",
       "| St. John's       |  452079.5 |  31193.18 | 0.13636364 |  654 | 0.018284500 |  44 | 0.05173547 |\n",
       "| Sudbury          |  464094.4 |  55707.55 | 0.07142857 |  203 | 0.005675464 |  14 | 0.06883029 |\n",
       "| Thunder Bay      |  441320.0 |  52189.68 | 0.10000000 |  154 | 0.004305524 |  10 | 0.09486833 |\n",
       "| Toronto          | 1124805.1 |  87542.65 | 0.66279070 | 1276 | 0.035674346 |  86 | 0.05097870 |\n",
       "| Trois-Rivieres   |  423909.1 |  58991.58 | 0.09090909 |  165 | 0.004613062 |  11 | 0.08667842 |\n",
       "| Vancouver        | 1763509.4 | 129873.05 | 0.84269663 | 1328 | 0.037128159 |  89 | 0.03859310 |\n",
       "| Victoria         | 1109811.0 | 103752.81 | 0.62921348 | 1325 | 0.037044285 |  89 | 0.05119953 |\n",
       "| White Rock       | 1849104.5 | 152071.95 | 0.82278481 | 1175 | 0.032850593 |  79 | 0.04296156 |\n",
       "| Windsor          |  725015.0 |  70900.02 | 0.33333333 |  720 | 0.020129725 |  48 | 0.06804138 |\n",
       "| Winnipeg         |  497395.6 |  62979.91 | 0.16666667 |  531 | 0.014845672 |  36 | 0.06211300 |\n",
       "\n"
      ],
      "text/plain": [
       "   City             priceAVG  priceSE   prop       N.h  N.prop.h    n.h\n",
       "1  Abbotsford       1454707.3 207343.00 0.74509804  755 0.021108253  51\n",
       "2  Airdrie           699813.3  79773.86 0.53333333  225 0.006290539  15\n",
       "3  Barrie           1159746.8 197344.25 0.75000000 1012 0.028293447  68\n",
       "4  Brantford         900254.6  57814.26 0.64285714  628 0.017557593  42\n",
       "5  Burnaby          1326360.2 101661.62 0.70786517 1334 0.037295907  89\n",
       "6  Caledon          1287134.4  75931.14 0.83333333 1336 0.037351823  90\n",
       "7  Calgary           583603.5  35660.64 0.20224719 1322 0.036960412  89\n",
       "8  Edmonton          463932.9  37231.79 0.16483516 1351 0.037771192  91\n",
       "9  Guelph            964966.0 133308.80 0.41379310  436 0.012189667  29\n",
       "10 Halifax           535600.0  53046.17 0.00000000   91 0.002544174   6\n",
       "11 Hamilton         1006016.1  84416.69 0.61627907 1289 0.036037799  86\n",
       "12 Kamloops          633123.3  48483.33 0.36666667  442 0.012357414  30\n",
       "13 Kelowna          1093128.9  70346.96 0.68604651 1280 0.035786178  86\n",
       "14 Kingston          880772.7  95727.54 0.63636364  486 0.013587564  33\n",
       "15 Kitchener         939747.3  67235.24 0.60000000 1199 0.033521584  80\n",
       "16 Lethbridge        396768.0  50133.13 0.12000000  379 0.010596064  25\n",
       "17 London            817266.5  41385.41 0.57777778 1345 0.037603444  90\n",
       "18 Maple Ridge      1525172.9 196122.94 0.75581395 1282 0.035842093  86\n",
       "19 Medicine Hat      586888.9  73660.95 0.33333333  277 0.007744352  18\n",
       "20 Moncton           463707.1  49923.50 0.17857143  416 0.011630508  28\n",
       "21 Montreal         1276778.5 259701.61 0.78571429  212 0.005927086  14\n",
       "22 Nanaimo           791510.6  66310.54 0.50000000  683 0.019095281  46\n",
       "23 New Westminster  1214277.0  73224.17 0.67777778 1337 0.037379781  90\n",
       "24 Oshawa            974427.0  51763.47 0.73972603 1082 0.030250503  73\n",
       "25 Ottawa            905501.4  75095.85 0.50000000 1097 0.030669873  74\n",
       "26 Peterborough      757310.0  60883.83 0.40000000  307 0.008583091  20\n",
       "27 Prince George     433600.0  40586.39 0.00000000  307 0.008583091  21\n",
       "28 Quebec            353186.2  28290.23 0.00000000  196 0.005479758  13\n",
       "29 Red Deer          439999.8  85998.83 0.18181818  326 0.009114292  22\n",
       "30 Regina            297668.8  14107.47 0.02325581 1917 0.053595393 129\n",
       "31 Saint John        301051.6  34546.66 0.03225806  458 0.012804742  31\n",
       "32 Saskatoon         468806.2  31072.75 0.13223140 1800 0.050324312 121\n",
       "33 Sault Ste. Marie  428372.7  75373.01 0.18181818  165 0.004613062  11\n",
       "34 Sherbrooke        586724.2 121041.03 0.15384615  197 0.005507716  13\n",
       "35 St. Catharines    931131.0  64910.06 0.56470588 1268 0.035450682  85\n",
       "36 St. John's        452079.5  31193.18 0.13636364  654 0.018284500  44\n",
       "37 Sudbury           464094.4  55707.55 0.07142857  203 0.005675464  14\n",
       "38 Thunder Bay       441320.0  52189.68 0.10000000  154 0.004305524  10\n",
       "39 Toronto          1124805.1  87542.65 0.66279070 1276 0.035674346  86\n",
       "40 Trois-Rivieres    423909.1  58991.58 0.09090909  165 0.004613062  11\n",
       "41 Vancouver        1763509.4 129873.05 0.84269663 1328 0.037128159  89\n",
       "42 Victoria         1109811.0 103752.81 0.62921348 1325 0.037044285  89\n",
       "43 White Rock       1849104.5 152071.95 0.82278481 1175 0.032850593  79\n",
       "44 Windsor           725015.0  70900.02 0.33333333  720 0.020129725  48\n",
       "45 Winnipeg          497395.6  62979.91 0.16666667  531 0.014845672  36\n",
       "   propSE    \n",
       "1  0.06102506\n",
       "2  0.12881224\n",
       "3  0.05251050\n",
       "4  0.07393560\n",
       "5  0.04820276\n",
       "6  0.03928371\n",
       "7  0.04257753\n",
       "8  0.03889469\n",
       "9  0.09145724\n",
       "10 0.00000000\n",
       "11 0.05243813\n",
       "12 0.08798148\n",
       "13 0.05004494\n",
       "14 0.08373931\n",
       "15 0.05477226\n",
       "16 0.06499231\n",
       "17 0.05206306\n",
       "18 0.04632534\n",
       "19 0.11111111\n",
       "20 0.07237888\n",
       "21 0.10966421\n",
       "22 0.07372098\n",
       "23 0.04926065\n",
       "24 0.05135579\n",
       "25 0.05812382\n",
       "26 0.10954451\n",
       "27 0.00000000\n",
       "28 0.00000000\n",
       "29 0.08223037\n",
       "30 0.01326971\n",
       "31 0.03173351\n",
       "32 0.03079474\n",
       "33 0.11629130\n",
       "34 0.10006825\n",
       "35 0.05377657\n",
       "36 0.05173547\n",
       "37 0.06883029\n",
       "38 0.09486833\n",
       "39 0.05097870\n",
       "40 0.08667842\n",
       "41 0.03859310\n",
       "42 0.05119953\n",
       "43 0.04296156\n",
       "44 0.06804138\n",
       "45 0.06211300"
      ]
     },
     "metadata": {},
     "output_type": "display_data"
    }
   ],
   "source": [
    "#calculating estimates and SE's for both variables of interest from each strata\n",
    "options(repr.matrix.max.rows = 45)\n",
    "strata.info <- str.sample |>\n",
    "    group_by(City) |>\n",
    "    summarize(priceAVG = mean(Price), priceSE = sd(Price), prop = mean(above.threshold)) |>\n",
    "    cbind(strata.sizes) |>\n",
    "    select(-5) |>\n",
    "    mutate(priceSE = priceSE / sqrt(n.h)) |>\n",
    "    mutate(propSE = sqrt(prop * (1 - prop) / n.h))\n",
    "strata.info"
   ]
  },
  {
   "cell_type": "code",
   "execution_count": 15,
   "id": "fbf156e8-d941-4b60-92f4-5c853c09541a",
   "metadata": {},
   "outputs": [
    {
     "data": {
      "text/html": [
       "926995.74167447"
      ],
      "text/latex": [
       "926995.74167447"
      ],
      "text/markdown": [
       "926995.74167447"
      ],
      "text/plain": [
       "[1] 926995.7"
      ]
     },
     "metadata": {},
     "output_type": "display_data"
    }
   ],
   "source": [
    "#stratified estimate of the mean price\n",
    "str.price.est <- sum(strata.info$priceAVG*strata.info$N.prop.h)\n",
    "str.price.est"
   ]
  },
  {
   "cell_type": "code",
   "execution_count": 16,
   "id": "e7322a2c-a33e-45db-9731-c7a2242893b2",
   "metadata": {},
   "outputs": [
    {
     "data": {
      "text/html": [
       "16168.8112524246"
      ],
      "text/latex": [
       "16168.8112524246"
      ],
      "text/markdown": [
       "16168.8112524246"
      ],
      "text/plain": [
       "[1] 16168.81"
      ]
     },
     "metadata": {},
     "output_type": "display_data"
    }
   ],
   "source": [
    "#SE for the mean price estimated via stratified sampling\n",
    "str.price.SE <- sqrt(sum(strata.info$priceSE^2*strata.info$N.prop.h^2))\n",
    "str.price.SE"
   ]
  },
  {
   "cell_type": "code",
   "execution_count": 17,
   "id": "1058e034-2227-4c31-b018-530adf82db7f",
   "metadata": {},
   "outputs": [
    {
     "data": {
      "text/html": [
       "895304.871619718"
      ],
      "text/latex": [
       "895304.871619718"
      ],
      "text/markdown": [
       "895304.871619718"
      ],
      "text/plain": [
       "[1] 895304.9"
      ]
     },
     "metadata": {},
     "output_type": "display_data"
    },
    {
     "data": {
      "text/html": [
       "958686.611729222"
      ],
      "text/latex": [
       "958686.611729222"
      ],
      "text/markdown": [
       "958686.611729222"
      ],
      "text/plain": [
       "[1] 958686.6"
      ]
     },
     "metadata": {},
     "output_type": "display_data"
    }
   ],
   "source": [
    "#stratified confidence interval for the mean price\n",
    "str.price.lowerCI <- str.price.est - 1.96 * str.price.SE\n",
    "str.price.lowerCI\n",
    "str.price.upperCI <- str.price.est + 1.96 * str.price.SE\n",
    "str.price.upperCI"
   ]
  },
  {
   "cell_type": "code",
   "execution_count": 18,
   "id": "58ea0ee2-9d69-4806-82c6-bc876f4810e8",
   "metadata": {},
   "outputs": [
    {
     "data": {
      "text/html": [
       "0.493223532824403"
      ],
      "text/latex": [
       "0.493223532824403"
      ],
      "text/markdown": [
       "0.493223532824403"
      ],
      "text/plain": [
       "[1] 0.4932235"
      ]
     },
     "metadata": {},
     "output_type": "display_data"
    }
   ],
   "source": [
    "#stratified estimate of the proportion of listings greater than $700,000\n",
    "str.prop.est <- sum(strata.info$prop*strata.info$N.prop.h)\n",
    "str.prop.est"
   ]
  },
  {
   "cell_type": "code",
   "execution_count": 19,
   "id": "3d06b698-2c42-4ae4-a3e9-072ebcba82fc",
   "metadata": {},
   "outputs": [
    {
     "data": {
      "text/html": [
       "0.00859014915708563"
      ],
      "text/latex": [
       "0.00859014915708563"
      ],
      "text/markdown": [
       "0.00859014915708563"
      ],
      "text/plain": [
       "[1] 0.008590149"
      ]
     },
     "metadata": {},
     "output_type": "display_data"
    }
   ],
   "source": [
    "#SE for the proportion of listings greater than $700,000 estimated via stratified sampling\n",
    "str.prop.SE <- sqrt(sum(strata.info$propSE^2*strata.info$N.prop.h^2))\n",
    "str.prop.SE"
   ]
  },
  {
   "cell_type": "code",
   "execution_count": 20,
   "id": "2a050216-6cd1-4534-8f89-69ed829ae068",
   "metadata": {},
   "outputs": [
    {
     "data": {
      "text/html": [
       "0.476386840476515"
      ],
      "text/latex": [
       "0.476386840476515"
      ],
      "text/markdown": [
       "0.476386840476515"
      ],
      "text/plain": [
       "[1] 0.4763868"
      ]
     },
     "metadata": {},
     "output_type": "display_data"
    },
    {
     "data": {
      "text/html": [
       "0.51006022517229"
      ],
      "text/latex": [
       "0.51006022517229"
      ],
      "text/markdown": [
       "0.51006022517229"
      ],
      "text/plain": [
       "[1] 0.5100602"
      ]
     },
     "metadata": {},
     "output_type": "display_data"
    }
   ],
   "source": [
    "#stratified confidence interval for the proportion of listings greater than $700,000\n",
    "str.prop.lowerCI <- str.prop.est - 1.96 * str.prop.SE\n",
    "str.prop.lowerCI\n",
    "str.prop.upperCI <- str.prop.est + 1.96 * str.prop.SE\n",
    "str.prop.upperCI"
   ]
  },
  {
   "cell_type": "code",
   "execution_count": 21,
   "id": "31f38a06-f03a-4212-a6d7-da45f75f4f94",
   "metadata": {},
   "outputs": [
    {
     "data": {
      "text/html": [
       "<table class=\"dataframe\">\n",
       "<caption>A tibble: 2 × 5</caption>\n",
       "<thead>\n",
       "\t<tr><th scope=col>Sampling Method</th><th scope=col>Estimated Mean Price</th><th scope=col>SE</th><th scope=col>Lower CI</th><th scope=col>Upper CI</th></tr>\n",
       "\t<tr><th scope=col>&lt;chr&gt;</th><th scope=col>&lt;dbl&gt;</th><th scope=col>&lt;dbl&gt;</th><th scope=col>&lt;dbl&gt;</th><th scope=col>&lt;dbl&gt;</th></tr>\n",
       "</thead>\n",
       "<tbody>\n",
       "\t<tr><td>SRS</td><td>930395.5</td><td>19088.64</td><td>892981.7</td><td>967809.2</td></tr>\n",
       "\t<tr><td>STR</td><td>926995.7</td><td>16168.81</td><td>895304.9</td><td>958686.6</td></tr>\n",
       "</tbody>\n",
       "</table>\n"
      ],
      "text/latex": [
       "A tibble: 2 × 5\n",
       "\\begin{tabular}{lllll}\n",
       " Sampling Method & Estimated Mean Price & SE & Lower CI & Upper CI\\\\\n",
       " <chr> & <dbl> & <dbl> & <dbl> & <dbl>\\\\\n",
       "\\hline\n",
       "\t SRS & 930395.5 & 19088.64 & 892981.7 & 967809.2\\\\\n",
       "\t STR & 926995.7 & 16168.81 & 895304.9 & 958686.6\\\\\n",
       "\\end{tabular}\n"
      ],
      "text/markdown": [
       "\n",
       "A tibble: 2 × 5\n",
       "\n",
       "| Sampling Method &lt;chr&gt; | Estimated Mean Price &lt;dbl&gt; | SE &lt;dbl&gt; | Lower CI &lt;dbl&gt; | Upper CI &lt;dbl&gt; |\n",
       "|---|---|---|---|---|\n",
       "| SRS | 930395.5 | 19088.64 | 892981.7 | 967809.2 |\n",
       "| STR | 926995.7 | 16168.81 | 895304.9 | 958686.6 |\n",
       "\n"
      ],
      "text/plain": [
       "  Sampling Method Estimated Mean Price SE       Lower CI Upper CI\n",
       "1 SRS             930395.5             19088.64 892981.7 967809.2\n",
       "2 STR             926995.7             16168.81 895304.9 958686.6"
      ]
     },
     "metadata": {},
     "output_type": "display_data"
    }
   ],
   "source": [
    "#comparing estimates of the mean price from SRS and stratified sampling\n",
    "tibble(\"Sampling Method\" = c(\"SRS\", \"STR\"),\n",
    "       \"Estimated Mean Price\" = c(srs.price.est, str.price.est),\n",
    "       \"SE\" = c(srs.price.SE, str.price.SE),\n",
    "       \"Lower CI\" = c(srs.price.lowerCI, str.price.lowerCI),\n",
    "       \"Upper CI\" = c(srs.price.upperCI, str.price.upperCI))"
   ]
  },
  {
   "cell_type": "code",
   "execution_count": 22,
   "id": "00fea6e6-1bac-478d-8fc2-632ea1bf51ca",
   "metadata": {},
   "outputs": [
    {
     "data": {
      "text/html": [
       "<table class=\"dataframe\">\n",
       "<caption>A tibble: 2 × 5</caption>\n",
       "<thead>\n",
       "\t<tr><th scope=col>Sampling Method</th><th scope=col>Estimated Proportion of Listings Above 700k</th><th scope=col>SE</th><th scope=col>Lower CI</th><th scope=col>Upper CI</th></tr>\n",
       "\t<tr><th scope=col>&lt;chr&gt;</th><th scope=col>&lt;dbl&gt;</th><th scope=col>&lt;dbl&gt;</th><th scope=col>&lt;dbl&gt;</th><th scope=col>&lt;dbl&gt;</th></tr>\n",
       "</thead>\n",
       "<tbody>\n",
       "\t<tr><td>SRS</td><td>0.4798001</td><td>0.010195751</td><td>0.4598164</td><td>0.4997838</td></tr>\n",
       "\t<tr><td>STR</td><td>0.4932235</td><td>0.008590149</td><td>0.4763868</td><td>0.5100602</td></tr>\n",
       "</tbody>\n",
       "</table>\n"
      ],
      "text/latex": [
       "A tibble: 2 × 5\n",
       "\\begin{tabular}{lllll}\n",
       " Sampling Method & Estimated Proportion of Listings Above 700k & SE & Lower CI & Upper CI\\\\\n",
       " <chr> & <dbl> & <dbl> & <dbl> & <dbl>\\\\\n",
       "\\hline\n",
       "\t SRS & 0.4798001 & 0.010195751 & 0.4598164 & 0.4997838\\\\\n",
       "\t STR & 0.4932235 & 0.008590149 & 0.4763868 & 0.5100602\\\\\n",
       "\\end{tabular}\n"
      ],
      "text/markdown": [
       "\n",
       "A tibble: 2 × 5\n",
       "\n",
       "| Sampling Method &lt;chr&gt; | Estimated Proportion of Listings Above 700k &lt;dbl&gt; | SE &lt;dbl&gt; | Lower CI &lt;dbl&gt; | Upper CI &lt;dbl&gt; |\n",
       "|---|---|---|---|---|\n",
       "| SRS | 0.4798001 | 0.010195751 | 0.4598164 | 0.4997838 |\n",
       "| STR | 0.4932235 | 0.008590149 | 0.4763868 | 0.5100602 |\n",
       "\n"
      ],
      "text/plain": [
       "  Sampling Method Estimated Proportion of Listings Above 700k SE         \n",
       "1 SRS             0.4798001                                   0.010195751\n",
       "2 STR             0.4932235                                   0.008590149\n",
       "  Lower CI  Upper CI \n",
       "1 0.4598164 0.4997838\n",
       "2 0.4763868 0.5100602"
      ]
     },
     "metadata": {},
     "output_type": "display_data"
    }
   ],
   "source": [
    "#comparing estimates of the proportion of listings greater than $700,000 from SRS and stratified sampling\n",
    "tibble(\"Sampling Method\" = c(\"SRS\", \"STR\"),\n",
    "       \"Estimated Proportion of Listings Above 700k\" = c(srs.prop.est, str.prop.est),\n",
    "       \"SE\" = c(srs.prop.SE, str.prop.SE),\n",
    "       \"Lower CI\" = c(srs.prop.lowerCI, str.prop.lowerCI),\n",
    "       \"Upper CI\" = c(srs.prop.upperCI, str.prop.upperCI))"
   ]
  },
  {
   "cell_type": "code",
   "execution_count": 23,
   "id": "b033097d-441f-497d-b839-656a0e3d6d85",
   "metadata": {},
   "outputs": [],
   "source": [
    "#distribution of listing price from SRS\n",
    "options(repr.plot.width = 10,repr.plot.height = 6)\n",
    "srs.plot.unbounded <- srs.sample |>\n",
    "    ggplot(aes(x = Price)) +\n",
    "    geom_histogram(binwidth = 500000, fill = \"#00BFCF\", col = \"black\") + \n",
    "    theme(text = element_text(size = 20)) + \n",
    "    labs(x = \"Price in Millions (CAD)\", y = \"Count\", title = \"SRS Distribution of Price, Unbounded Axis\") +\n",
    "    geom_vline(xintercept = threshold, color = \"red\", linewidth = 1.5) +\n",
    "    scale_x_continuous(\n",
    "        breaks = seq(from = 0, to = 20000000, by = 5000000),\n",
    "        label = c(0, 5, 10, 15, 20)\n",
    "    )"
   ]
  },
  {
   "cell_type": "code",
   "execution_count": 24,
   "id": "8b97efc0-9472-439a-90cb-8dc72966ce9e",
   "metadata": {},
   "outputs": [],
   "source": [
    "#distribution of listing price from SRS, price bounded between 0 and 3 million\n",
    "options(repr.plot.width = 10,repr.plot.height = 6)\n",
    "srs.plot.bounded <- srs.sample |>\n",
    "    ggplot(aes(x = Price)) +\n",
    "    geom_histogram(binwidth = 100000, fill = \"#00BFCF\", col = \"black\") + \n",
    "    theme(text = element_text(size = 20)) + \n",
    "    labs(x = \"Price\", y = \"Count\", title = \"SRS Distribution of Price, Bounded Axis\") +\n",
    "    geom_vline(xintercept = threshold, color = \"red\", linewidth = 1.5) + \n",
    "    scale_x_continuous(\n",
    "        limits = c(-50000, 3050000), \n",
    "        breaks = seq(from = 0, to = 3000000, by = 500000),\n",
    "        label = c(0, 0.5, 1, 1.5, 2, 2.5, 3)\n",
    "    )"
   ]
  },
  {
   "cell_type": "code",
   "execution_count": 25,
   "id": "c1b5ac17-cff4-4171-870a-135419e88ee4",
   "metadata": {},
   "outputs": [],
   "source": [
    "#distribution of listing price from stratified sample\n",
    "options(repr.plot.width = 10,repr.plot.height = 6)\n",
    "str.plot.unbounded <- str.sample |>\n",
    "    ggplot(aes(x = Price)) +\n",
    "    geom_histogram(binwidth = 500000, fill = \"#00BFCF\", col = \"black\") + \n",
    "    theme(text = element_text(size = 20)) + \n",
    "    labs(x = \"Price\", y = \"Count\", title = \"STR Distribution of Price, Unbounded Axis\") +\n",
    "    geom_vline(xintercept = threshold, color = \"red\", linewidth = 1.5) +\n",
    "    scale_x_continuous(\n",
    "        breaks = seq(from = 0, to = 20000000, by = 5000000),\n",
    "        label = c(0, 5, 10, 15, 20)\n",
    "    )"
   ]
  },
  {
   "cell_type": "code",
   "execution_count": 26,
   "id": "1af990aa-7c75-4859-b233-1229e698ea40",
   "metadata": {},
   "outputs": [],
   "source": [
    "#distribution of listing price from stratified sample, price bounded between 0 and 3 million\n",
    "options(repr.plot.width = 10,repr.plot.height = 6)\n",
    "str.plot.bounded <- str.sample |>\n",
    "    ggplot(aes(x = Price)) +\n",
    "    geom_histogram(binwidth = 100000, fill = \"#00BFCF\", col = \"black\") + \n",
    "    theme(text = element_text(size = 20)) + \n",
    "    labs(x = \"Price\", y = \"Count\", title = \"STR Distribution of Price, Bounded Axis\") +\n",
    "    geom_vline(xintercept = threshold, color = \"red\", linewidth = 1.5) +\n",
    "    scale_x_continuous(\n",
    "        limits = c(-50000, 3050000), \n",
    "        breaks = seq(from = 0, to = 3000000, by = 500000),\n",
    "        label = c(0, 0.5, 1, 1.5, 2, 2.5, 3)\n",
    "    )"
   ]
  },
  {
   "cell_type": "code",
   "execution_count": 27,
   "id": "601fab2e-fe5b-4827-9929-ded1b8f73fa6",
   "metadata": {},
   "outputs": [
    {
     "name": "stderr",
     "output_type": "stream",
     "text": [
      "Warning message:\n",
      "\"\u001b[1m\u001b[22mRemoved 55 rows containing non-finite outside the scale range (`stat_bin()`).\"\n",
      "Warning message:\n",
      "\"\u001b[1m\u001b[22mRemoved 57 rows containing non-finite outside the scale range (`stat_bin()`).\"\n"
     ]
    },
    {
     "data": {
      "image/png": "[encoded data removed]",
      "text/plain": [
       "plot without title"
      ]
     },
     "metadata": {
      "image/png": {
       "height": 720,
       "width": 1200
      }
     },
     "output_type": "display_data"
    }
   ],
   "source": [
    "#arranging plots in a 2x2 grid\n",
    "options(repr.plot.width=20,repr.plot.height=12)\n",
    "plots <- plot_grid(srs.plot.unbounded, srs.plot.bounded, str.plot.unbounded, str.plot.bounded)\n",
    "plots"
   ]
  },
  {
   "cell_type": "code",
   "execution_count": 28,
   "id": "2c2e88a2-8d8c-4d41-b97d-4ff96fdaa29c",
   "metadata": {},
   "outputs": [
    {
     "name": "stderr",
     "output_type": "stream",
     "text": [
      "Warning message:\n",
      "\"\u001b[1m\u001b[22mRemoved 55 rows containing non-finite outside the scale range (`stat_bin()`).\"\n",
      "Warning message:\n",
      "\"\u001b[1m\u001b[22mRemoved 57 rows containing non-finite outside the scale range (`stat_bin()`).\"\n"
     ]
    },
    {
     "data": {
      "image/png": "[encoded data removed]",
      "text/plain": [
       "plot without title"
      ]
     },
     "metadata": {
      "image/png": {
       "height": 720,
       "width": 1200
      }
     },
     "output_type": "display_data"
    }
   ],
   "source": [
    "#same plots as before but with the appropriate confidence intervals shaded\n",
    "srs.plot.ci.unbounded <- srs.plot.unbounded + shade_ci(endpoints = c(srs.price.lowerCI, srs.price.upperCI))\n",
    "\n",
    "srs.plot.ci.bounded <- srs.plot.bounded + shade_ci(endpoints = c(srs.price.lowerCI, srs.price.upperCI))\n",
    "\n",
    "str.plot.ci.unbounded <- str.plot.unbounded + shade_ci(endpoints = c(str.price.lowerCI, str.price.upperCI))\n",
    "\n",
    "str.plot.ci.bounded <- str.plot.bounded + shade_ci(endpoints = c(str.price.lowerCI, str.price.upperCI))\n",
    "\n",
    "options(repr.plot.width=20,repr.plot.height=12)\n",
    "plots.ci <- plot_grid(srs.plot.ci.unbounded, srs.plot.ci.bounded, str.plot.ci.unbounded, str.plot.ci.bounded)\n",
    "plots.ci"
   ]
  },
  {
   "cell_type": "code",
   "execution_count": null,
   "id": "02ab7431-3ee3-4d21-aa8f-cbe220ac549a",
   "metadata": {},
   "outputs": [],
   "source": []
  }
 ],
 "metadata": {
  "kernelspec": {
   "display_name": "R",
   "language": "R",
   "name": "ir"
  },
  "language_info": {
   "codemirror_mode": "r",
   "file_extension": ".r",
   "mimetype": "text/x-r-source",
   "name": "R",
   "pygments_lexer": "r",
   "version": "4.4.1"
  }
 },
 "nbformat": 4,
 "nbformat_minor": 5
}
